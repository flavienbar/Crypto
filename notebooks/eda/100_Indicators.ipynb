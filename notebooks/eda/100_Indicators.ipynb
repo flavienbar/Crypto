{
 "cells": [
  {
   "cell_type": "markdown",
   "source": [
    "# Indicators"
   ],
   "metadata": {}
  },
  {
   "cell_type": "markdown",
   "source": [
    "Indicator Groups\n",
    "\n",
    "    Overlap Studies\n",
    "    Momentum Indicators\n",
    "    Volume Indicators\n",
    "    Volatility Indicators\n",
    "    Price Transform\n",
    "    Cycle Indicators\n",
    "    Pattern Recognition\n",
    "\n",
    "Overlap Studies\n",
    "\n",
    "BBANDS               Bollinger Bands\n",
    "DEMA                 Double Exponential Moving Average\n",
    "EMA                  Exponential Moving Average\n",
    "HT_TRENDLINE         Hilbert Transform - Instantaneous Trendline\n",
    "KAMA                 Kaufman Adaptive Moving Average\n",
    "MA                   Moving average\n",
    "MAMA                 MESA Adaptive Moving Average\n",
    "MAVP                 Moving average with variable period\n",
    "MIDPOINT             MidPoint over period\n",
    "MIDPRICE             Midpoint Price over period\n",
    "SAR                  Parabolic SAR\n",
    "SAREXT               Parabolic SAR - Extended\n",
    "SMA                  Simple Moving Average\n",
    "T3                   Triple Exponential Moving Average (T3)\n",
    "TEMA                 Triple Exponential Moving Average\n",
    "TRIMA                Triangular Moving Average\n",
    "WMA                  Weighted Moving Average\n",
    "\n",
    "Momentum Indicators\n",
    "\n",
    "ADX                  Average Directional Movement Index\n",
    "ADXR                 Average Directional Movement Index Rating\n",
    "APO                  Absolute Price Oscillator\n",
    "AROON                Aroon\n",
    "AROONOSC             Aroon Oscillator\n",
    "BOP                  Balance Of Power\n",
    "CCI                  Commodity Channel Index\n",
    "CMO                  Chande Momentum Oscillator\n",
    "DX                   Directional Movement Index\n",
    "MACD                 Moving Average Convergence/Divergence\n",
    "MACDEXT              MACD with controllable MA type\n",
    "MACDFIX              Moving Average Convergence/Divergence Fix 12/26\n",
    "MFI                  Money Flow Index\n",
    "MINUS_DI             Minus Directional Indicator\n",
    "MINUS_DM             Minus Directional Movement\n",
    "MOM                  Momentum\n",
    "PLUS_DI              Plus Directional Indicator\n",
    "PLUS_DM              Plus Directional Movement\n",
    "PPO                  Percentage Price Oscillator\n",
    "ROC                  Rate of change : ((price/prevPrice)-1)*100\n",
    "ROCP                 Rate of change Percentage: (price-prevPrice)/prevPrice\n",
    "ROCR                 Rate of change ratio: (price/prevPrice)\n",
    "ROCR100              Rate of change ratio 100 scale: (price/prevPrice)*100\n",
    "RSI                  Relative Strength Index\n",
    "STOCH                Stochastic\n",
    "STOCHF               Stochastic Fast\n",
    "STOCHRSI             Stochastic Relative Strength Index\n",
    "TRIX                 1-day Rate-Of-Change (ROC) of a Triple Smooth EMA\n",
    "ULTOSC               Ultimate Oscillator\n",
    "WILLR                Williams' %R\n",
    "\n",
    "Volume Indicators\n",
    "\n",
    "AD                   Chaikin A/D Line\n",
    "ADOSC                Chaikin A/D Oscillator\n",
    "OBV                  On Balance Volume\n",
    "\n",
    "Cycle Indicators\n",
    "\n",
    "HT_DCPERIOD          Hilbert Transform - Dominant Cycle Period\n",
    "HT_DCPHASE           Hilbert Transform - Dominant Cycle Phase\n",
    "HT_PHASOR            Hilbert Transform - Phasor Components\n",
    "HT_SINE              Hilbert Transform - SineWave\n",
    "HT_TRENDMODE         Hilbert Transform - Trend vs Cycle Mode\n",
    "\n",
    "Price Transform\n",
    "\n",
    "AVGPRICE             Average Price\n",
    "MEDPRICE             Median Price\n",
    "TYPPRICE             Typical Price\n",
    "WCLPRICE             Weighted Close Price\n",
    "\n",
    "Volatility Indicators\n",
    "\n",
    "ATR                  Average True Range\n",
    "NATR                 Normalized Average True Range\n",
    "TRANGE               True Range\n",
    "\n",
    "Pattern Recognition\n",
    "\n",
    "CDL2CROWS            Two Crows\n",
    "CDL3BLACKCROWS       Three Black Crows\n",
    "CDL3INSIDE           Three Inside Up/Down\n",
    "CDL3LINESTRIKE       Three-Line Strike\n",
    "CDL3OUTSIDE          Three Outside Up/Down\n",
    "CDL3STARSINSOUTH     Three Stars In The South\n",
    "CDL3WHITESOLDIERS    Three Advancing White Soldiers\n",
    "CDLABANDONEDBABY     Abandoned Baby\n",
    "CDLADVANCEBLOCK      Advance Block\n",
    "CDLBELTHOLD          Belt-hold\n",
    "CDLBREAKAWAY         Breakaway\n",
    "CDLCLOSINGMARUBOZU   Closing Marubozu\n",
    "CDLCONCEALBABYSWALL  Concealing Baby Swallow\n",
    "CDLCOUNTERATTACK     Counterattack\n",
    "CDLDARKCLOUDCOVER    Dark Cloud Cover\n",
    "CDLDOJI              Doji\n",
    "CDLDOJISTAR          Doji Star\n",
    "CDLDRAGONFLYDOJI     Dragonfly Doji\n",
    "CDLENGULFING         Engulfing Pattern\n",
    "CDLEVENINGDOJISTAR   Evening Doji Star\n",
    "CDLEVENINGSTAR       Evening Star\n",
    "CDLGAPSIDESIDEWHITE  Up/Down-gap side-by-side white lines\n",
    "CDLGRAVESTONEDOJI    Gravestone Doji\n",
    "CDLHAMMER            Hammer\n",
    "CDLHANGINGMAN        Hanging Man\n",
    "CDLHARAMI            Harami Pattern\n",
    "CDLHARAMICROSS       Harami Cross Pattern\n",
    "CDLHIGHWAVE          High-Wave Candle\n",
    "CDLHIKKAKE           Hikkake Pattern\n",
    "CDLHIKKAKEMOD        Modified Hikkake Pattern\n",
    "CDLHOMINGPIGEON      Homing Pigeon\n",
    "CDLIDENTICAL3CROWS   Identical Three Crows\n",
    "CDLINNECK            In-Neck Pattern\n",
    "CDLINVERTEDHAMMER    Inverted Hammer\n",
    "CDLKICKING           Kicking\n",
    "CDLKICKINGBYLENGTH   Kicking - bull/bear determined by the longer marubozu\n",
    "CDLLADDERBOTTOM      Ladder Bottom\n",
    "CDLLONGLEGGEDDOJI    Long Legged Doji\n",
    "CDLLONGLINE          Long Line Candle\n",
    "CDLMARUBOZU          Marubozu\n",
    "CDLMATCHINGLOW       Matching Low\n",
    "CDLMATHOLD           Mat Hold\n",
    "CDLMORNINGDOJISTAR   Morning Doji Star\n",
    "CDLMORNINGSTAR       Morning Star\n",
    "CDLONNECK            On-Neck Pattern\n",
    "CDLPIERCING          Piercing Pattern\n",
    "CDLRICKSHAWMAN       Rickshaw Man\n",
    "CDLRISEFALL3METHODS  Rising/Falling Three Methods\n",
    "CDLSEPARATINGLINES   Separating Lines\n",
    "CDLSHOOTINGSTAR      Shooting Star\n",
    "CDLSHORTLINE         Short Line Candle\n",
    "CDLSPINNINGTOP       Spinning Top\n",
    "CDLSTALLEDPATTERN    Stalled Pattern\n",
    "CDLSTICKSANDWICH     Stick Sandwich\n",
    "CDLTAKURI            Takuri (Dragonfly Doji with very long lower shadow)\n",
    "CDLTASUKIGAP         Tasuki Gap\n",
    "CDLTHRUSTING         Thrusting Pattern\n",
    "CDLTRISTAR           Tristar Pattern\n",
    "CDLUNIQUE3RIVER      Unique 3 River\n",
    "CDLUPSIDEGAP2CROWS   Upside Gap Two Crows\n",
    "CDLXSIDEGAP3METHODS  Upside/Downside Gap Three Methods\n",
    "\n",
    "Statistic Functions\n",
    "\n",
    "BETA                 Beta\n",
    "CORREL               Pearson's Correlation Coefficient (r)\n",
    "LINEARREG            Linear Regression\n",
    "LINEARREG_ANGLE      Linear Regression Angle\n",
    "LINEARREG_INTERCEPT  Linear Regression Intercept\n",
    "LINEARREG_SLOPE      Linear Regression Slope\n",
    "STDDEV               Standard Deviation\n",
    "TSF                  Time Series Forecast\n",
    "VAR                  Variance\n"
   ],
   "metadata": {}
  },
  {
   "cell_type": "code",
   "execution_count": 12,
   "source": [
    "import pandas as pd"
   ],
   "outputs": [],
   "metadata": {}
  },
  {
   "cell_type": "code",
   "execution_count": 24,
   "source": [
    "btc.columns"
   ],
   "outputs": [
    {
     "output_type": "execute_result",
     "data": {
      "text/plain": [
       "Index(['Date', 'Open', 'High', 'Low', 'Close', 'AdjClose', 'Volume'], dtype='object')"
      ]
     },
     "metadata": {},
     "execution_count": 24
    }
   ],
   "metadata": {}
  },
  {
   "cell_type": "code",
   "execution_count": null,
   "source": [],
   "outputs": [],
   "metadata": {}
  },
  {
   "cell_type": "code",
   "execution_count": 22,
   "source": [
    "btc = pd.read_csv('/home/giujorge/datalake/lab/Crypto/crypto/data/external/yahoo/daily/usd/BTC-USD.csv')\n",
    "btc.rename(columns={'Adj Close':'AdjClose'}, inplace=True)"
   ],
   "outputs": [],
   "metadata": {}
  },
  {
   "cell_type": "code",
   "execution_count": 23,
   "source": [
    "output = talib.SMA(btc['Close'])\n",
    "output"
   ],
   "outputs": [
    {
     "output_type": "execute_result",
     "data": {
      "text/plain": [
       "0      NaN\n",
       "1      NaN\n",
       "2      NaN\n",
       "3      NaN\n",
       "4      NaN\n",
       "        ..\n",
       "2541   NaN\n",
       "2542   NaN\n",
       "2543   NaN\n",
       "2544   NaN\n",
       "2545   NaN\n",
       "Length: 2546, dtype: float64"
      ]
     },
     "metadata": {},
     "execution_count": 23
    }
   ],
   "metadata": {}
  },
  {
   "cell_type": "code",
   "execution_count": 15,
   "source": [
    "SMA\n"
   ],
   "outputs": [
    {
     "output_type": "execute_result",
     "data": {
      "text/plain": [
       "{'name': 'SMA', 'group': 'Overlap Studies', 'display_name': 'Simple Moving Average', 'function_flags': ['Output scale same as input'], 'input_names': OrderedDict([('price', 'close')]), 'parameters': OrderedDict([('timeperiod', 30)]), 'output_flags': OrderedDict([('real', ['Line'])]), 'output_names': ['real']}"
      ]
     },
     "metadata": {},
     "execution_count": 15
    }
   ],
   "metadata": {}
  }
 ],
 "metadata": {
  "orig_nbformat": 4,
  "language_info": {
   "name": "python",
   "version": "3.8.10",
   "mimetype": "text/x-python",
   "codemirror_mode": {
    "name": "ipython",
    "version": 3
   },
   "pygments_lexer": "ipython3",
   "nbconvert_exporter": "python",
   "file_extension": ".py"
  },
  "kernelspec": {
   "name": "python3",
   "display_name": "Python 3.8.10  ('crypto': conda)"
  },
  "interpreter": {
   "hash": "4c67d90e61fef8dc7644d70493c7c4dcb7dc7b3c118e8099983851c36494eae4"
  }
 },
 "nbformat": 4,
 "nbformat_minor": 2
}