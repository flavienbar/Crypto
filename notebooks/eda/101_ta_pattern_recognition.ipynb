{
 "cells": [
  {
   "cell_type": "markdown",
   "metadata": {},
   "source": [
    "# Indicators"
   ]
  },
  {
   "cell_type": "code",
   "execution_count": 1,
   "metadata": {},
   "outputs": [],
   "source": [
    "import pandas as pd\n",
    "import talib as ta\n",
    "import numpy as np"
   ]
  },
  {
   "cell_type": "markdown",
   "metadata": {},
   "source": [
    "## Sources"
   ]
  },
  {
   "cell_type": "code",
   "execution_count": 2,
   "metadata": {},
   "outputs": [
    {
     "data": {
      "text/html": [
       "<div>\n",
       "<style scoped>\n",
       "    .dataframe tbody tr th:only-of-type {\n",
       "        vertical-align: middle;\n",
       "    }\n",
       "\n",
       "    .dataframe tbody tr th {\n",
       "        vertical-align: top;\n",
       "    }\n",
       "\n",
       "    .dataframe thead th {\n",
       "        text-align: right;\n",
       "    }\n",
       "</style>\n",
       "<table border=\"1\" class=\"dataframe\">\n",
       "  <thead>\n",
       "    <tr style=\"text-align: right;\">\n",
       "      <th></th>\n",
       "      <th>Open</th>\n",
       "      <th>High</th>\n",
       "      <th>Low</th>\n",
       "      <th>Close</th>\n",
       "      <th>Adj Close</th>\n",
       "      <th>Volume</th>\n",
       "    </tr>\n",
       "    <tr>\n",
       "      <th>Date</th>\n",
       "      <th></th>\n",
       "      <th></th>\n",
       "      <th></th>\n",
       "      <th></th>\n",
       "      <th></th>\n",
       "      <th></th>\n",
       "    </tr>\n",
       "  </thead>\n",
       "  <tbody>\n",
       "    <tr>\n",
       "      <th>2014-09-17</th>\n",
       "      <td>465.864014</td>\n",
       "      <td>468.174011</td>\n",
       "      <td>452.421997</td>\n",
       "      <td>457.334015</td>\n",
       "      <td>457.334015</td>\n",
       "      <td>21056800.0</td>\n",
       "    </tr>\n",
       "    <tr>\n",
       "      <th>2014-09-18</th>\n",
       "      <td>456.859985</td>\n",
       "      <td>456.859985</td>\n",
       "      <td>413.104004</td>\n",
       "      <td>424.440002</td>\n",
       "      <td>424.440002</td>\n",
       "      <td>34483200.0</td>\n",
       "    </tr>\n",
       "    <tr>\n",
       "      <th>2014-09-19</th>\n",
       "      <td>424.102997</td>\n",
       "      <td>427.834991</td>\n",
       "      <td>384.532013</td>\n",
       "      <td>394.795990</td>\n",
       "      <td>394.795990</td>\n",
       "      <td>37919700.0</td>\n",
       "    </tr>\n",
       "    <tr>\n",
       "      <th>2014-09-20</th>\n",
       "      <td>394.673004</td>\n",
       "      <td>423.295990</td>\n",
       "      <td>389.882996</td>\n",
       "      <td>408.903992</td>\n",
       "      <td>408.903992</td>\n",
       "      <td>36863600.0</td>\n",
       "    </tr>\n",
       "    <tr>\n",
       "      <th>2014-09-21</th>\n",
       "      <td>408.084991</td>\n",
       "      <td>412.425995</td>\n",
       "      <td>393.181000</td>\n",
       "      <td>398.821014</td>\n",
       "      <td>398.821014</td>\n",
       "      <td>26580100.0</td>\n",
       "    </tr>\n",
       "  </tbody>\n",
       "</table>\n",
       "</div>"
      ],
      "text/plain": [
       "                  Open        High         Low       Close   Adj Close  \\\n",
       "Date                                                                     \n",
       "2014-09-17  465.864014  468.174011  452.421997  457.334015  457.334015   \n",
       "2014-09-18  456.859985  456.859985  413.104004  424.440002  424.440002   \n",
       "2014-09-19  424.102997  427.834991  384.532013  394.795990  394.795990   \n",
       "2014-09-20  394.673004  423.295990  389.882996  408.903992  408.903992   \n",
       "2014-09-21  408.084991  412.425995  393.181000  398.821014  398.821014   \n",
       "\n",
       "                Volume  \n",
       "Date                    \n",
       "2014-09-17  21056800.0  \n",
       "2014-09-18  34483200.0  \n",
       "2014-09-19  37919700.0  \n",
       "2014-09-20  36863600.0  \n",
       "2014-09-21  26580100.0  "
      ]
     },
     "execution_count": 2,
     "metadata": {},
     "output_type": "execute_result"
    }
   ],
   "source": [
    "btc_yahoo = pd.read_csv('/home/giujorge/datalake/lab/Crypto/crypto/data/external/yahoo/daily/usd/BTC-USD.csv', parse_dates=True, index_col=0)\n",
    "btc_yahoo.head()"
   ]
  },
  {
   "cell_type": "markdown",
   "metadata": {},
   "source": [
    "## Pattern Recognition"
   ]
  },
  {
   "cell_type": "code",
   "execution_count": 12,
   "metadata": {},
   "outputs": [],
   "source": [
    "## CDL2CROWS - Two Crows\n",
    "btc_yahoo['CDL2CROWS'] = ta.CDL2CROWS(btc_yahoo[\"Open\"], btc_yahoo['High'], btc_yahoo['Low'], btc_yahoo[\"Adj Close\"])"
   ]
  },
  {
   "cell_type": "code",
   "execution_count": 11,
   "metadata": {},
   "outputs": [],
   "source": [
    "## CDL3BLACKCROWS - Three Black Crows\n",
    "btc_yahoo['CDL3BLACKCROWS'] = ta.CDL3BLACKCROWS(btc_yahoo[\"Open\"], btc_yahoo['High'], btc_yahoo['Low'], btc_yahoo[\"Adj Close\"])"
   ]
  },
  {
   "cell_type": "code",
   "execution_count": 10,
   "metadata": {},
   "outputs": [],
   "source": [
    "## CDL3INSIDE - Three Inside Up/Down\n",
    "btc_yahoo['CDL3INSIDE'] = ta.CDL3INSIDE(btc_yahoo[\"Open\"], btc_yahoo['High'], btc_yahoo['Low'], btc_yahoo[\"Adj Close\"])"
   ]
  },
  {
   "cell_type": "code",
   "execution_count": 13,
   "metadata": {},
   "outputs": [],
   "source": [
    "## CDL3LINESTRIKE - Three-Line Strike\n",
    "btc_yahoo['CDL3LINESTRIKE'] = ta.CDL3LINESTRIKE(btc_yahoo[\"Open\"], btc_yahoo['High'], btc_yahoo['Low'], btc_yahoo[\"Adj Close\"])"
   ]
  },
  {
   "cell_type": "code",
   "execution_count": 14,
   "metadata": {},
   "outputs": [],
   "source": [
    "## CDL3OUTSIDE - Three Outside Up/Down\n",
    "btc_yahoo['CDL3OUTSIDE'] = ta.CDL3OUTSIDE(btc_yahoo[\"Open\"], btc_yahoo['High'], btc_yahoo['Low'], btc_yahoo[\"Adj Close\"])"
   ]
  },
  {
   "cell_type": "code",
   "execution_count": 15,
   "metadata": {},
   "outputs": [],
   "source": [
    "## CDL3STARSINSOUTH - Three Stars In The South\n",
    "btc_yahoo['CDL3STARSINSOUTH'] = ta.CDL3STARSINSOUTH(btc_yahoo[\"Open\"], btc_yahoo['High'], btc_yahoo['Low'], btc_yahoo[\"Adj Close\"])"
   ]
  },
  {
   "cell_type": "code",
   "execution_count": 16,
   "metadata": {},
   "outputs": [],
   "source": [
    "## CDL3WHITESOLDIERS - Three Advancing White Soldiers\n",
    "btc_yahoo['CDL3WHITESOLDIERS'] = ta.CDL3WHITESOLDIERS(btc_yahoo[\"Open\"], btc_yahoo['High'], btc_yahoo['Low'], btc_yahoo[\"Adj Close\"])"
   ]
  },
  {
   "cell_type": "code",
   "execution_count": 17,
   "metadata": {},
   "outputs": [],
   "source": [
    "## CDLABANDONEDBABY - Abandoned Baby\n",
    "btc_yahoo['CDLABANDONEDBABY'] = ta.CDLABANDONEDBABY(btc_yahoo[\"Open\"], btc_yahoo['High'], btc_yahoo['Low'], btc_yahoo[\"Adj Close\"])"
   ]
  },
  {
   "cell_type": "code",
   "execution_count": 19,
   "metadata": {},
   "outputs": [],
   "source": [
    "## CDLADVANCEBLOCK - Advance Block\n",
    "btc_yahoo['CDLADVANCEBLOCK'] = ta.CDLADVANCEBLOCK(btc_yahoo[\"Open\"], btc_yahoo['High'], btc_yahoo['Low'], btc_yahoo[\"Adj Close\"])"
   ]
  },
  {
   "cell_type": "code",
   "execution_count": 20,
   "metadata": {},
   "outputs": [],
   "source": [
    "## CDLBELTHOLD - Belt-hold\n",
    "btc_yahoo['CDLBELTHOLD'] =ta.CDLBELTHOLD(btc_yahoo[\"Open\"], btc_yahoo['High'], btc_yahoo['Low'], btc_yahoo[\"Adj Close\"])"
   ]
  },
  {
   "cell_type": "code",
   "execution_count": 21,
   "metadata": {},
   "outputs": [],
   "source": [
    "## CDLBREAKAWAY - Breakaway\n",
    "btc_yahoo['CDLBREAKAWAY'] =ta.CDLBREAKAWAY(btc_yahoo[\"Open\"], btc_yahoo['High'], btc_yahoo['Low'], btc_yahoo[\"Adj Close\"])"
   ]
  },
  {
   "cell_type": "code",
   "execution_count": 22,
   "metadata": {},
   "outputs": [],
   "source": [
    "## CDLCLOSINGMARUBOZU - Closing Marubozu\n",
    "btc_yahoo['CDLCLOSINGMARUBOZU'] =ta.CDLCLOSINGMARUBOZU(btc_yahoo[\"Open\"], btc_yahoo['High'], btc_yahoo['Low'], btc_yahoo[\"Adj Close\"])"
   ]
  },
  {
   "cell_type": "code",
   "execution_count": 23,
   "metadata": {},
   "outputs": [],
   "source": [
    "## CDLCONCEALBABYSWALL - Concealing Baby Swallow\n",
    "btc_yahoo['CDLCONCEALBABYSWALL'] =ta.CDLCONCEALBABYSWALL(btc_yahoo[\"Open\"], btc_yahoo['High'], btc_yahoo['Low'], btc_yahoo[\"Adj Close\"])"
   ]
  },
  {
   "cell_type": "code",
   "execution_count": 24,
   "metadata": {},
   "outputs": [],
   "source": [
    "## CDLCOUNTERATTACK - Counterattack\n",
    "btc_yahoo['CDLCOUNTERATTACK'] =ta.CDLCOUNTERATTACK(btc_yahoo[\"Open\"], btc_yahoo['High'], btc_yahoo['Low'], btc_yahoo[\"Adj Close\"])"
   ]
  },
  {
   "cell_type": "code",
   "execution_count": 25,
   "metadata": {},
   "outputs": [],
   "source": [
    "## CDLDARKCLOUDCOVER - Dark Cloud Cover\n",
    "btc_yahoo['CDLDARKCLOUDCOVER'] =ta.CDLDARKCLOUDCOVER(btc_yahoo[\"Open\"], btc_yahoo['High'], btc_yahoo['Low'], btc_yahoo[\"Adj Close\"], penetration=0)"
   ]
  },
  {
   "cell_type": "code",
   "execution_count": 26,
   "metadata": {},
   "outputs": [],
   "source": [
    "## CDLDOJI - Doji\n",
    "btc_yahoo['CDLDOJI'] =ta.CDLDOJI(btc_yahoo[\"Open\"], btc_yahoo['High'], btc_yahoo['Low'], btc_yahoo[\"Adj Close\"])"
   ]
  },
  {
   "cell_type": "code",
   "execution_count": 27,
   "metadata": {},
   "outputs": [],
   "source": [
    "## CDLDOJISTAR - Doji Star\n",
    "btc_yahoo['CDLDOJISTAR'] =ta.CDLDOJISTAR(btc_yahoo[\"Open\"], btc_yahoo['High'], btc_yahoo['Low'], btc_yahoo[\"Adj Close\"])"
   ]
  },
  {
   "cell_type": "code",
   "execution_count": 28,
   "metadata": {},
   "outputs": [],
   "source": [
    "## CDLDRAGONFLYDOJI - Dragonfly Doji\n",
    "btc_yahoo['CDLDRAGONFLYDOJI'] =ta.CDLDRAGONFLYDOJI(btc_yahoo[\"Open\"], btc_yahoo['High'], btc_yahoo['Low'], btc_yahoo[\"Adj Close\"])"
   ]
  },
  {
   "cell_type": "code",
   "execution_count": 30,
   "metadata": {},
   "outputs": [],
   "source": [
    "## CDLENGULFING - Engulfing Pattern\n",
    "btc_yahoo['CDLENGULFING'] =ta.CDLENGULFING(btc_yahoo[\"Open\"], btc_yahoo['High'], btc_yahoo['Low'], btc_yahoo[\"Adj Close\"])"
   ]
  },
  {
   "cell_type": "code",
   "execution_count": 31,
   "metadata": {},
   "outputs": [],
   "source": [
    "## CDLEVENINGDOJISTAR - Evening Doji Star\n",
    "btc_yahoo['CDLEVENINGDOJISTAR'] =ta.CDLEVENINGDOJISTAR(btc_yahoo[\"Open\"], btc_yahoo['High'], btc_yahoo['Low'], btc_yahoo[\"Adj Close\"], penetration=0)"
   ]
  },
  {
   "cell_type": "code",
   "execution_count": 32,
   "metadata": {},
   "outputs": [],
   "source": [
    "## CDLEVENINGSTAR - Evening Star\n",
    "btc_yahoo['CDLEVENINGSTAR'] =ta.CDLEVENINGSTAR(btc_yahoo[\"Open\"], btc_yahoo['High'], btc_yahoo['Low'], btc_yahoo[\"Adj Close\"], penetration=0)"
   ]
  },
  {
   "cell_type": "code",
   "execution_count": 33,
   "metadata": {},
   "outputs": [],
   "source": [
    "## CDLGAPSIDESIDEWHITE - Up/Down-gap side-by-side white lines\n",
    "btc_yahoo['CDLGAPSIDESIDEWHITE'] =ta.CDLGAPSIDESIDEWHITE(btc_yahoo[\"Open\"], btc_yahoo['High'], btc_yahoo['Low'], btc_yahoo[\"Adj Close\"])"
   ]
  },
  {
   "cell_type": "code",
   "execution_count": 34,
   "metadata": {},
   "outputs": [],
   "source": [
    "## CDLGRAVESTONEDOJI - Gravestone Doji\n",
    "btc_yahoo['CDLGRAVESTONEDOJI'] =ta.CDLGRAVESTONEDOJI(btc_yahoo[\"Open\"], btc_yahoo['High'], btc_yahoo['Low'], btc_yahoo[\"Adj Close\"])"
   ]
  },
  {
   "cell_type": "code",
   "execution_count": 35,
   "metadata": {},
   "outputs": [],
   "source": [
    "## CDLHAMMER - Hammer\n",
    "btc_yahoo['CDLHAMMER'] = ta.CDLHAMMER(btc_yahoo[\"Open\"], btc_yahoo['High'], btc_yahoo['Low'], btc_yahoo[\"Adj Close\"])"
   ]
  },
  {
   "cell_type": "code",
   "execution_count": 36,
   "metadata": {},
   "outputs": [],
   "source": [
    "## CDLHANGINGMAN - Hanging Man\n",
    "btc_yahoo['CDLHANGINGMAN'] =ta.CDLHANGINGMAN(btc_yahoo[\"Open\"], btc_yahoo['High'], btc_yahoo['Low'], btc_yahoo[\"Adj Close\"])"
   ]
  },
  {
   "cell_type": "code",
   "execution_count": 37,
   "metadata": {},
   "outputs": [],
   "source": [
    "## CDLHARAMI - Harami Pattern\n",
    "btc_yahoo['CDLHARAMI'] = ta.CDLHARAMI(btc_yahoo[\"Open\"], btc_yahoo['High'], btc_yahoo['Low'], btc_yahoo[\"Adj Close\"])"
   ]
  },
  {
   "cell_type": "code",
   "execution_count": 38,
   "metadata": {},
   "outputs": [],
   "source": [
    "## CDLHARAMICROSS - Harami Cross Pattern\n",
    "btc_yahoo['CDLHARAMICROSS'] = ta.CDLHARAMICROSS(btc_yahoo[\"Open\"], btc_yahoo['High'], btc_yahoo['Low'], btc_yahoo[\"Adj Close\"])"
   ]
  },
  {
   "cell_type": "code",
   "execution_count": 39,
   "metadata": {},
   "outputs": [],
   "source": [
    "## CDLHIGHWAVE - High-Wave Candle\n",
    "btc_yahoo['CDLHIGHWAVE'] = ta.CDLHIGHWAVE(btc_yahoo[\"Open\"], btc_yahoo['High'], btc_yahoo['Low'], btc_yahoo[\"Adj Close\"])"
   ]
  },
  {
   "cell_type": "code",
   "execution_count": 40,
   "metadata": {},
   "outputs": [],
   "source": [
    "## CDLHIKKAKE - Hikkake Pattern\n",
    "btc_yahoo['CDLHIKKAKE'] = ta.CDLHIKKAKE(btc_yahoo[\"Open\"], btc_yahoo['High'], btc_yahoo['Low'], btc_yahoo[\"Adj Close\"])"
   ]
  },
  {
   "cell_type": "code",
   "execution_count": 41,
   "metadata": {},
   "outputs": [],
   "source": [
    "## CDLHIKKAKEMOD - Modified Hikkake Pattern\n",
    "btc_yahoo['CDLHIKKAKEMOD'] = ta.CDLHIKKAKEMOD(btc_yahoo[\"Open\"], btc_yahoo['High'], btc_yahoo['Low'], btc_yahoo[\"Adj Close\"])"
   ]
  },
  {
   "cell_type": "code",
   "execution_count": 42,
   "metadata": {},
   "outputs": [],
   "source": [
    "## CDLHOMINGPIGEON - Homing Pigeon\n",
    "btc_yahoo['CDLHOMINGPIGEON'] = ta.CDLHOMINGPIGEON(btc_yahoo[\"Open\"], btc_yahoo['High'], btc_yahoo['Low'], btc_yahoo[\"Adj Close\"])"
   ]
  },
  {
   "cell_type": "code",
   "execution_count": 43,
   "metadata": {},
   "outputs": [],
   "source": [
    "## CDLIDENTICAL3CROWS - Identical Three Crows\n",
    "btc_yahoo['CDLIDENTICAL3CROWS'] = ta.CDLIDENTICAL3CROWS(btc_yahoo[\"Open\"], btc_yahoo['High'], btc_yahoo['Low'], btc_yahoo[\"Adj Close\"])"
   ]
  },
  {
   "cell_type": "code",
   "execution_count": 48,
   "metadata": {},
   "outputs": [],
   "source": [
    "## CDLINNECK - In-Neck Pattern\n",
    "btc_yahoo['CDLINNECK'] = ta.CDLINNECK(btc_yahoo[\"Open\"], btc_yahoo['High'], btc_yahoo['Low'], btc_yahoo[\"Adj Close\"])"
   ]
  },
  {
   "cell_type": "code",
   "execution_count": 49,
   "metadata": {},
   "outputs": [],
   "source": [
    "## CDLINVERTEDHAMMER - Inverted Hammer\n",
    "btc_yahoo['CDLINVERTEDHAMMER'] = ta.CDLINVERTEDHAMMER(btc_yahoo[\"Open\"], btc_yahoo['High'], btc_yahoo['Low'], btc_yahoo[\"Adj Close\"])"
   ]
  },
  {
   "cell_type": "code",
   "execution_count": 50,
   "metadata": {},
   "outputs": [],
   "source": [
    "## CDLKICKING - Kicking\n",
    "btc_yahoo['CDLKICKING'] = ta.CDLKICKING(btc_yahoo[\"Open\"], btc_yahoo['High'], btc_yahoo['Low'], btc_yahoo[\"Adj Close\"])"
   ]
  },
  {
   "cell_type": "code",
   "execution_count": 51,
   "metadata": {},
   "outputs": [],
   "source": [
    "## CDLKICKINGBYLENGTH - Kicking - bull/bear determined by the longer marubozu\n",
    "btc_yahoo['CDLKICKINGBYLENGTH'] = ta.CDLKICKINGBYLENGTH(btc_yahoo[\"Open\"], btc_yahoo['High'], btc_yahoo['Low'], btc_yahoo[\"Adj Close\"])"
   ]
  },
  {
   "cell_type": "code",
   "execution_count": 52,
   "metadata": {},
   "outputs": [],
   "source": [
    "## CDLLADDERBOTTOM - Ladder Bottom\n",
    "btc_yahoo['CDLLADDERBOTTOM'] = ta.CDLLADDERBOTTOM(btc_yahoo[\"Open\"], btc_yahoo['High'], btc_yahoo['Low'], btc_yahoo[\"Adj Close\"])"
   ]
  },
  {
   "cell_type": "code",
   "execution_count": 53,
   "metadata": {},
   "outputs": [],
   "source": [
    "## CDLLONGLEGGEDDOJI - Long Legged Doji\n",
    "btc_yahoo['CDLLONGLEGGEDDOJI'] = ta.CDLLONGLEGGEDDOJI(btc_yahoo[\"Open\"], btc_yahoo['High'], btc_yahoo['Low'], btc_yahoo[\"Adj Close\"])"
   ]
  },
  {
   "cell_type": "code",
   "execution_count": 54,
   "metadata": {},
   "outputs": [],
   "source": [
    "## CDLLONGLINE - Long Line Candle\n",
    "btc_yahoo['CDLLONGLINE'] = ta.CDLLONGLINE(btc_yahoo[\"Open\"], btc_yahoo['High'], btc_yahoo['Low'], btc_yahoo[\"Adj Close\"])"
   ]
  },
  {
   "cell_type": "code",
   "execution_count": 55,
   "metadata": {},
   "outputs": [],
   "source": [
    "## CDLMARUBOZU - Marubozu\n",
    "btc_yahoo['CDLMARUBOZU'] = ta.CDLMARUBOZU(btc_yahoo[\"Open\"], btc_yahoo['High'], btc_yahoo['Low'], btc_yahoo[\"Adj Close\"])"
   ]
  },
  {
   "cell_type": "code",
   "execution_count": 56,
   "metadata": {},
   "outputs": [],
   "source": [
    "## CDLMATCHINGLOW - Matching Low\n",
    "btc_yahoo['CDLMATCHINGLOW'] = ta.CDLMATCHINGLOW(btc_yahoo[\"Open\"], btc_yahoo['High'], btc_yahoo['Low'], btc_yahoo[\"Adj Close\"])"
   ]
  },
  {
   "cell_type": "code",
   "execution_count": 57,
   "metadata": {},
   "outputs": [],
   "source": [
    "## CDLMATHOLD - Mat Hold\n",
    "btc_yahoo['CDLMATHOLD'] = ta.CDLMATHOLD(btc_yahoo[\"Open\"], btc_yahoo['High'], btc_yahoo['Low'], btc_yahoo[\"Adj Close\"], penetration=0)"
   ]
  },
  {
   "cell_type": "code",
   "execution_count": 58,
   "metadata": {},
   "outputs": [],
   "source": [
    "## CDLMORNINGDOJISTAR - Morning Doji Star\n",
    "btc_yahoo['CDLMORNINGDOJISTAR'] = ta.CDLMORNINGDOJISTAR(btc_yahoo[\"Open\"], btc_yahoo['High'], btc_yahoo['Low'], btc_yahoo[\"Adj Close\"], penetration=0)"
   ]
  },
  {
   "cell_type": "code",
   "execution_count": 59,
   "metadata": {},
   "outputs": [],
   "source": [
    "## CDLMORNINGSTAR - Morning Star\n",
    "btc_yahoo['CDLMORNINGSTAR'] = ta.CDLMORNINGSTAR(btc_yahoo[\"Open\"], btc_yahoo['High'], btc_yahoo['Low'], btc_yahoo[\"Adj Close\"], penetration=0)"
   ]
  },
  {
   "cell_type": "code",
   "execution_count": 60,
   "metadata": {},
   "outputs": [],
   "source": [
    "## CDLONNECK - On-Neck Pattern\n",
    "btc_yahoo['CDLONNECK'] = ta.CDLONNECK(btc_yahoo[\"Open\"], btc_yahoo['High'], btc_yahoo['Low'], btc_yahoo[\"Adj Close\"])"
   ]
  },
  {
   "cell_type": "code",
   "execution_count": 61,
   "metadata": {},
   "outputs": [],
   "source": [
    "## CDLPIERCING - Piercing Pattern\n",
    "btc_yahoo['CDLPIERCING'] = ta.CDLPIERCING(btc_yahoo[\"Open\"], btc_yahoo['High'], btc_yahoo['Low'], btc_yahoo[\"Adj Close\"])"
   ]
  },
  {
   "cell_type": "code",
   "execution_count": 62,
   "metadata": {},
   "outputs": [],
   "source": [
    "## CDLRICKSHAWMAN - Rickshaw Man\n",
    "btc_yahoo['CDLRICKSHAWMAN'] = ta.CDLRICKSHAWMAN(btc_yahoo[\"Open\"], btc_yahoo['High'], btc_yahoo['Low'], btc_yahoo[\"Adj Close\"])"
   ]
  },
  {
   "cell_type": "code",
   "execution_count": 63,
   "metadata": {},
   "outputs": [],
   "source": [
    "## CDLRISEFALL3METHODS - Rising/Falling Three Methods\n",
    "btc_yahoo['CDLRISEFALL3METHODS'] = ta.CDLRISEFALL3METHODS(btc_yahoo[\"Open\"], btc_yahoo['High'], btc_yahoo['Low'], btc_yahoo[\"Adj Close\"])"
   ]
  },
  {
   "cell_type": "code",
   "execution_count": 64,
   "metadata": {},
   "outputs": [],
   "source": [
    "## CDLSEPARATINGLINES - Separating Lines\n",
    "btc_yahoo['CDLSEPARATINGLINES'] = ta.CDLSEPARATINGLINES(btc_yahoo[\"Open\"], btc_yahoo['High'], btc_yahoo['Low'], btc_yahoo[\"Adj Close\"])"
   ]
  },
  {
   "cell_type": "code",
   "execution_count": 65,
   "metadata": {},
   "outputs": [],
   "source": [
    "## CDLSHOOTINGSTAR - Shooting Star\n",
    "btc_yahoo['CDLSHOOTINGSTAR'] = ta.CDLSHOOTINGSTAR(btc_yahoo[\"Open\"], btc_yahoo['High'], btc_yahoo['Low'], btc_yahoo[\"Adj Close\"])"
   ]
  },
  {
   "cell_type": "code",
   "execution_count": 66,
   "metadata": {},
   "outputs": [],
   "source": [
    "## CDLSHORTLINE - Short Line Candle\n",
    "btc_yahoo['CDLSHORTLINE'] = ta.CDLSHORTLINE(btc_yahoo[\"Open\"], btc_yahoo['High'], btc_yahoo['Low'], btc_yahoo[\"Adj Close\"])"
   ]
  },
  {
   "cell_type": "code",
   "execution_count": 67,
   "metadata": {},
   "outputs": [],
   "source": [
    "## CDLSPINNINGTOP - Spinning Top\n",
    "btc_yahoo['CDLSPINNINGTOP'] = ta.CDLSPINNINGTOP(btc_yahoo[\"Open\"], btc_yahoo['High'], btc_yahoo['Low'], btc_yahoo[\"Adj Close\"])"
   ]
  },
  {
   "cell_type": "code",
   "execution_count": 68,
   "metadata": {},
   "outputs": [],
   "source": [
    "## CDLSTALLEDPATTERN - Stalled Pattern\n",
    "btc_yahoo['CDLSTALLEDPATTERN'] = ta.CDLSTALLEDPATTERN(btc_yahoo[\"Open\"], btc_yahoo['High'], btc_yahoo['Low'], btc_yahoo[\"Adj Close\"])"
   ]
  },
  {
   "cell_type": "code",
   "execution_count": 69,
   "metadata": {},
   "outputs": [],
   "source": [
    "## CDLSTICKSANDWICH - Stick Sandwich\n",
    "btc_yahoo['CDLSTICKSANDWICH'] = ta.CDLSTICKSANDWICH(btc_yahoo[\"Open\"], btc_yahoo['High'], btc_yahoo['Low'], btc_yahoo[\"Adj Close\"])"
   ]
  },
  {
   "cell_type": "code",
   "execution_count": 70,
   "metadata": {},
   "outputs": [],
   "source": [
    "## CDLTAKURI - Takuri (Dragonfly Doji with very long lower shadow)\n",
    "btc_yahoo['CDLTAKURI'] = ta.CDLTAKURI(btc_yahoo[\"Open\"], btc_yahoo['High'], btc_yahoo['Low'], btc_yahoo[\"Adj Close\"])"
   ]
  },
  {
   "cell_type": "code",
   "execution_count": 71,
   "metadata": {},
   "outputs": [],
   "source": [
    "## CDLTASUKIGAP - Tasuki Gap\n",
    "btc_yahoo['CDLTASUKIGAP'] = ta.CDLTASUKIGAP(btc_yahoo[\"Open\"], btc_yahoo['High'], btc_yahoo['Low'], btc_yahoo[\"Adj Close\"])"
   ]
  },
  {
   "cell_type": "code",
   "execution_count": 72,
   "metadata": {},
   "outputs": [],
   "source": [
    "## CDLTHRUSTING - Thrusting Pattern\n",
    "btc_yahoo['CDLTASUKIGAP'] = ta.CDLTASUKIGAP(btc_yahoo[\"Open\"], btc_yahoo['High'], btc_yahoo['Low'], btc_yahoo[\"Adj Close\"])"
   ]
  },
  {
   "cell_type": "code",
   "execution_count": 73,
   "metadata": {},
   "outputs": [],
   "source": [
    "## CDLTRISTAR - Tristar Pattern\n",
    "btc_yahoo['CDLTRISTAR'] = ta.CDLTRISTAR(btc_yahoo[\"Open\"], btc_yahoo['High'], btc_yahoo['Low'], btc_yahoo[\"Adj Close\"])"
   ]
  },
  {
   "cell_type": "code",
   "execution_count": 74,
   "metadata": {},
   "outputs": [],
   "source": [
    "## CDLUNIQUE3RIVER - Unique 3 River\n",
    "btc_yahoo['CDLUNIQUE3RIVER'] = ta.CDLUNIQUE3RIVER(btc_yahoo[\"Open\"], btc_yahoo['High'], btc_yahoo['Low'], btc_yahoo[\"Adj Close\"])"
   ]
  },
  {
   "cell_type": "code",
   "execution_count": 75,
   "metadata": {},
   "outputs": [],
   "source": [
    "## CDLUPSIDEGAP2CROWS - Upside Gap Two Crows\n",
    "btc_yahoo['CDLUPSIDEGAP2CROWS'] = ta.CDLUPSIDEGAP2CROWS(btc_yahoo[\"Open\"], btc_yahoo['High'], btc_yahoo['Low'], btc_yahoo[\"Adj Close\"])"
   ]
  },
  {
   "cell_type": "code",
   "execution_count": 76,
   "metadata": {},
   "outputs": [],
   "source": [
    "## CDLXSIDEGAP3METHODS - Upside/Downside Gap Three Methods\n",
    "btc_yahoo['CDLXSIDEGAP3METHODS'] = ta.CDLXSIDEGAP3METHODS(btc_yahoo[\"Open\"], btc_yahoo['High'], btc_yahoo['Low'], btc_yahoo[\"Adj Close\"])\n"
   ]
  },
  {
   "cell_type": "markdown",
   "metadata": {},
   "source": [
    "## Exploration"
   ]
  },
  {
   "cell_type": "code",
   "execution_count": 79,
   "metadata": {},
   "outputs": [],
   "source": [
    "pattern_rec = ['CDL2CROWS','CDL3BLACKCROWS','CDL3INSIDE','CDL3LINESTRIKE','CDL3OUTSIDE','CDL3STARSINSOUTH','CDL3WHITESOLDIERS','CDLABANDONEDBABY','CDLADVANCEBLOCK','CDLBELTHOLD','CDLBREAKAWAY','CDLCLOSINGMARUBOZU','CDLCONCEALBABYSWALL','CDLCOUNTERATTACK','CDLDOJI','CDLDOJISTAR','CDLDRAGONFLYDOJI','CDLENGULFING','CDLGAPSIDESIDEWHITE','CDLGRAVESTONEDOJI','CDLHAMMER','CDLHANGINGMAN','CDLHARAMI','CDLHARAMICROSS','CDLHIGHWAVE','CDLHIKKAKE','CDLHIKKAKEMOD','CDLHOMINGPIGEON','CDLIDENTICAL3CROWS','CDLINNECK','CDLINVERTEDHAMMER','CDLKICKING','CDLKICKINGBYLENGTH','CDLLADDERBOTTOM','CDLLONGLEGGEDDOJI','CDLLONGLINE','CDLMARUBOZU','CDLMATCHINGLOW','CDLORNINGDOJISTAR','CDLONNECK','CDLPIERCING','CDLRICKSHAWMAN','CDLRISEFALL3METHODS','CDLSEPARATINGLINES','CDLSHOOTINGSTAR','CDLSHORTLINE','CDLSPINNINGTOP','CDLSTALLEDPATTERN','CDLSTICKSANDWICH','CDLTAKURI','CDLTASUKIGAP','CDLTHRUSTING','CDLTRISTAR','CDLUNIQUE3RIVER','CDLUPSIDEGAP2CROWS','CDLXSIDEGAP3METHODS']"
   ]
  },
  {
   "cell_type": "code",
   "execution_count": 81,
   "metadata": {},
   "outputs": [],
   "source": [
    "pattern_rec_pen = ['CDLDARKCLOUDCOVER', 'CDLEVENINGDOJISTAR', 'CDLEVENINGSTAR', 'CDLMATHOLD', 'CDLMORNINGDOJISTAR', 'CDLMORNINGSTAR']"
   ]
  },
  {
   "cell_type": "markdown",
   "metadata": {},
   "source": [
    "for i in pattern_rec:\n",
    "    btc_yahoo['{}'] = ta.s'{}(btc_yahoo[\"Open\"], btc_yahoo['High'], btc_yahoo['Low'], btc_yahoo[\"Adj Close\"]).format(i,i)"
   ]
  },
  {
   "cell_type": "code",
   "execution_count": 77,
   "metadata": {},
   "outputs": [
    {
     "data": {
      "text/plain": [
       "(2546, 66)"
      ]
     },
     "execution_count": 77,
     "metadata": {},
     "output_type": "execute_result"
    }
   ],
   "source": [
    "btc_yahoo.shape"
   ]
  },
  {
   "cell_type": "code",
   "execution_count": 86,
   "metadata": {},
   "outputs": [
    {
     "data": {
      "text/plain": [
       "Open                   4\n",
       "High                   4\n",
       "Low                    4\n",
       "Close                  4\n",
       "Adj Close              4\n",
       "                      ..\n",
       "CDLTASUKIGAP           0\n",
       "CDLTRISTAR             0\n",
       "CDLUNIQUE3RIVER        0\n",
       "CDLUPSIDEGAP2CROWS     0\n",
       "CDLXSIDEGAP3METHODS    0\n",
       "Length: 66, dtype: int64"
      ]
     },
     "execution_count": 86,
     "metadata": {},
     "output_type": "execute_result"
    }
   ],
   "source": [
    "btc_yahoo.isnull().sum()"
   ]
  },
  {
   "cell_type": "code",
   "execution_count": 87,
   "metadata": {},
   "outputs": [
    {
     "data": {
      "text/html": [
       "<div>\n",
       "<style scoped>\n",
       "    .dataframe tbody tr th:only-of-type {\n",
       "        vertical-align: middle;\n",
       "    }\n",
       "\n",
       "    .dataframe tbody tr th {\n",
       "        vertical-align: top;\n",
       "    }\n",
       "\n",
       "    .dataframe thead th {\n",
       "        text-align: right;\n",
       "    }\n",
       "</style>\n",
       "<table border=\"1\" class=\"dataframe\">\n",
       "  <thead>\n",
       "    <tr style=\"text-align: right;\">\n",
       "      <th></th>\n",
       "      <th>Open</th>\n",
       "      <th>High</th>\n",
       "      <th>Low</th>\n",
       "      <th>Close</th>\n",
       "      <th>Adj Close</th>\n",
       "      <th>Volume</th>\n",
       "      <th>CDL2CROWS</th>\n",
       "      <th>CDL3INSIDE</th>\n",
       "      <th>CDL3BLACKCROWS</th>\n",
       "      <th>CDL3LINESTRIKE</th>\n",
       "      <th>...</th>\n",
       "      <th>CDLSHORTLINE</th>\n",
       "      <th>CDLSPINNINGTOP</th>\n",
       "      <th>CDLSTALLEDPATTERN</th>\n",
       "      <th>CDLSTICKSANDWICH</th>\n",
       "      <th>CDLTAKURI</th>\n",
       "      <th>CDLTASUKIGAP</th>\n",
       "      <th>CDLTRISTAR</th>\n",
       "      <th>CDLUNIQUE3RIVER</th>\n",
       "      <th>CDLUPSIDEGAP2CROWS</th>\n",
       "      <th>CDLXSIDEGAP3METHODS</th>\n",
       "    </tr>\n",
       "  </thead>\n",
       "  <tbody>\n",
       "    <tr>\n",
       "      <th>count</th>\n",
       "      <td>2542.000000</td>\n",
       "      <td>2542.000000</td>\n",
       "      <td>2542.000000</td>\n",
       "      <td>2542.000000</td>\n",
       "      <td>2542.000000</td>\n",
       "      <td>2.542000e+03</td>\n",
       "      <td>2546.0</td>\n",
       "      <td>2546.000000</td>\n",
       "      <td>2546.0</td>\n",
       "      <td>2546.000000</td>\n",
       "      <td>...</td>\n",
       "      <td>2546.000000</td>\n",
       "      <td>2546.000000</td>\n",
       "      <td>2546.000000</td>\n",
       "      <td>2546.0</td>\n",
       "      <td>2546.000000</td>\n",
       "      <td>2546.000000</td>\n",
       "      <td>2546.000000</td>\n",
       "      <td>2546.000000</td>\n",
       "      <td>2546.0</td>\n",
       "      <td>2546.000000</td>\n",
       "    </tr>\n",
       "    <tr>\n",
       "      <th>mean</th>\n",
       "      <td>8769.944647</td>\n",
       "      <td>9019.972647</td>\n",
       "      <td>8500.103779</td>\n",
       "      <td>8788.702374</td>\n",
       "      <td>8788.702374</td>\n",
       "      <td>1.335322e+10</td>\n",
       "      <td>0.0</td>\n",
       "      <td>0.235664</td>\n",
       "      <td>0.0</td>\n",
       "      <td>0.078555</td>\n",
       "      <td>...</td>\n",
       "      <td>1.060487</td>\n",
       "      <td>-0.117832</td>\n",
       "      <td>-0.392773</td>\n",
       "      <td>0.0</td>\n",
       "      <td>1.924588</td>\n",
       "      <td>-0.039277</td>\n",
       "      <td>0.039277</td>\n",
       "      <td>0.078555</td>\n",
       "      <td>0.0</td>\n",
       "      <td>0.078555</td>\n",
       "    </tr>\n",
       "    <tr>\n",
       "      <th>std</th>\n",
       "      <td>12936.817459</td>\n",
       "      <td>13332.388616</td>\n",
       "      <td>12491.242153</td>\n",
       "      <td>12960.807565</td>\n",
       "      <td>12960.807565</td>\n",
       "      <td>1.980157e+10</td>\n",
       "      <td>0.0</td>\n",
       "      <td>8.861710</td>\n",
       "      <td>0.0</td>\n",
       "      <td>6.267899</td>\n",
       "      <td>...</td>\n",
       "      <td>41.707828</td>\n",
       "      <td>37.870447</td>\n",
       "      <td>6.256069</td>\n",
       "      <td>0.0</td>\n",
       "      <td>13.741502</td>\n",
       "      <td>4.432248</td>\n",
       "      <td>1.981850</td>\n",
       "      <td>2.802209</td>\n",
       "      <td>0.0</td>\n",
       "      <td>11.212964</td>\n",
       "    </tr>\n",
       "    <tr>\n",
       "      <th>min</th>\n",
       "      <td>176.897003</td>\n",
       "      <td>211.731003</td>\n",
       "      <td>171.509995</td>\n",
       "      <td>178.102997</td>\n",
       "      <td>178.102997</td>\n",
       "      <td>5.914570e+06</td>\n",
       "      <td>0.0</td>\n",
       "      <td>-100.000000</td>\n",
       "      <td>0.0</td>\n",
       "      <td>-100.000000</td>\n",
       "      <td>...</td>\n",
       "      <td>-100.000000</td>\n",
       "      <td>-100.000000</td>\n",
       "      <td>-100.000000</td>\n",
       "      <td>0.0</td>\n",
       "      <td>0.000000</td>\n",
       "      <td>-100.000000</td>\n",
       "      <td>0.000000</td>\n",
       "      <td>0.000000</td>\n",
       "      <td>0.0</td>\n",
       "      <td>-100.000000</td>\n",
       "    </tr>\n",
       "    <tr>\n",
       "      <th>25%</th>\n",
       "      <td>574.081741</td>\n",
       "      <td>578.300003</td>\n",
       "      <td>568.766998</td>\n",
       "      <td>574.159744</td>\n",
       "      <td>574.159744</td>\n",
       "      <td>7.273237e+07</td>\n",
       "      <td>0.0</td>\n",
       "      <td>0.000000</td>\n",
       "      <td>0.0</td>\n",
       "      <td>0.000000</td>\n",
       "      <td>...</td>\n",
       "      <td>0.000000</td>\n",
       "      <td>0.000000</td>\n",
       "      <td>0.000000</td>\n",
       "      <td>0.0</td>\n",
       "      <td>0.000000</td>\n",
       "      <td>0.000000</td>\n",
       "      <td>0.000000</td>\n",
       "      <td>0.000000</td>\n",
       "      <td>0.0</td>\n",
       "      <td>0.000000</td>\n",
       "    </tr>\n",
       "    <tr>\n",
       "      <th>50%</th>\n",
       "      <td>5207.205079</td>\n",
       "      <td>5323.109131</td>\n",
       "      <td>5058.392090</td>\n",
       "      <td>5218.072510</td>\n",
       "      <td>5218.072510</td>\n",
       "      <td>4.337750e+09</td>\n",
       "      <td>0.0</td>\n",
       "      <td>0.000000</td>\n",
       "      <td>0.0</td>\n",
       "      <td>0.000000</td>\n",
       "      <td>...</td>\n",
       "      <td>0.000000</td>\n",
       "      <td>0.000000</td>\n",
       "      <td>0.000000</td>\n",
       "      <td>0.0</td>\n",
       "      <td>0.000000</td>\n",
       "      <td>0.000000</td>\n",
       "      <td>0.000000</td>\n",
       "      <td>0.000000</td>\n",
       "      <td>0.0</td>\n",
       "      <td>0.000000</td>\n",
       "    </tr>\n",
       "    <tr>\n",
       "      <th>75%</th>\n",
       "      <td>9522.637451</td>\n",
       "      <td>9699.815674</td>\n",
       "      <td>9311.406738</td>\n",
       "      <td>9524.767822</td>\n",
       "      <td>9524.767822</td>\n",
       "      <td>2.107336e+10</td>\n",
       "      <td>0.0</td>\n",
       "      <td>0.000000</td>\n",
       "      <td>0.0</td>\n",
       "      <td>0.000000</td>\n",
       "      <td>...</td>\n",
       "      <td>0.000000</td>\n",
       "      <td>0.000000</td>\n",
       "      <td>0.000000</td>\n",
       "      <td>0.0</td>\n",
       "      <td>0.000000</td>\n",
       "      <td>0.000000</td>\n",
       "      <td>0.000000</td>\n",
       "      <td>0.000000</td>\n",
       "      <td>0.0</td>\n",
       "      <td>0.000000</td>\n",
       "    </tr>\n",
       "    <tr>\n",
       "      <th>max</th>\n",
       "      <td>63523.753906</td>\n",
       "      <td>64863.097656</td>\n",
       "      <td>62208.964844</td>\n",
       "      <td>63503.457031</td>\n",
       "      <td>63503.457031</td>\n",
       "      <td>3.509679e+11</td>\n",
       "      <td>0.0</td>\n",
       "      <td>100.000000</td>\n",
       "      <td>0.0</td>\n",
       "      <td>100.000000</td>\n",
       "      <td>...</td>\n",
       "      <td>100.000000</td>\n",
       "      <td>100.000000</td>\n",
       "      <td>0.000000</td>\n",
       "      <td>0.0</td>\n",
       "      <td>100.000000</td>\n",
       "      <td>100.000000</td>\n",
       "      <td>100.000000</td>\n",
       "      <td>100.000000</td>\n",
       "      <td>0.0</td>\n",
       "      <td>100.000000</td>\n",
       "    </tr>\n",
       "  </tbody>\n",
       "</table>\n",
       "<p>8 rows × 66 columns</p>\n",
       "</div>"
      ],
      "text/plain": [
       "               Open          High           Low         Close     Adj Close  \\\n",
       "count   2542.000000   2542.000000   2542.000000   2542.000000   2542.000000   \n",
       "mean    8769.944647   9019.972647   8500.103779   8788.702374   8788.702374   \n",
       "std    12936.817459  13332.388616  12491.242153  12960.807565  12960.807565   \n",
       "min      176.897003    211.731003    171.509995    178.102997    178.102997   \n",
       "25%      574.081741    578.300003    568.766998    574.159744    574.159744   \n",
       "50%     5207.205079   5323.109131   5058.392090   5218.072510   5218.072510   \n",
       "75%     9522.637451   9699.815674   9311.406738   9524.767822   9524.767822   \n",
       "max    63523.753906  64863.097656  62208.964844  63503.457031  63503.457031   \n",
       "\n",
       "             Volume  CDL2CROWS   CDL3INSIDE  CDL3BLACKCROWS  CDL3LINESTRIKE  \\\n",
       "count  2.542000e+03     2546.0  2546.000000          2546.0     2546.000000   \n",
       "mean   1.335322e+10        0.0     0.235664             0.0        0.078555   \n",
       "std    1.980157e+10        0.0     8.861710             0.0        6.267899   \n",
       "min    5.914570e+06        0.0  -100.000000             0.0     -100.000000   \n",
       "25%    7.273237e+07        0.0     0.000000             0.0        0.000000   \n",
       "50%    4.337750e+09        0.0     0.000000             0.0        0.000000   \n",
       "75%    2.107336e+10        0.0     0.000000             0.0        0.000000   \n",
       "max    3.509679e+11        0.0   100.000000             0.0      100.000000   \n",
       "\n",
       "       ...  CDLSHORTLINE  CDLSPINNINGTOP  CDLSTALLEDPATTERN  CDLSTICKSANDWICH  \\\n",
       "count  ...   2546.000000     2546.000000        2546.000000            2546.0   \n",
       "mean   ...      1.060487       -0.117832          -0.392773               0.0   \n",
       "std    ...     41.707828       37.870447           6.256069               0.0   \n",
       "min    ...   -100.000000     -100.000000        -100.000000               0.0   \n",
       "25%    ...      0.000000        0.000000           0.000000               0.0   \n",
       "50%    ...      0.000000        0.000000           0.000000               0.0   \n",
       "75%    ...      0.000000        0.000000           0.000000               0.0   \n",
       "max    ...    100.000000      100.000000           0.000000               0.0   \n",
       "\n",
       "         CDLTAKURI  CDLTASUKIGAP   CDLTRISTAR  CDLUNIQUE3RIVER  \\\n",
       "count  2546.000000   2546.000000  2546.000000      2546.000000   \n",
       "mean      1.924588     -0.039277     0.039277         0.078555   \n",
       "std      13.741502      4.432248     1.981850         2.802209   \n",
       "min       0.000000   -100.000000     0.000000         0.000000   \n",
       "25%       0.000000      0.000000     0.000000         0.000000   \n",
       "50%       0.000000      0.000000     0.000000         0.000000   \n",
       "75%       0.000000      0.000000     0.000000         0.000000   \n",
       "max     100.000000    100.000000   100.000000       100.000000   \n",
       "\n",
       "       CDLUPSIDEGAP2CROWS  CDLXSIDEGAP3METHODS  \n",
       "count              2546.0          2546.000000  \n",
       "mean                  0.0             0.078555  \n",
       "std                   0.0            11.212964  \n",
       "min                   0.0          -100.000000  \n",
       "25%                   0.0             0.000000  \n",
       "50%                   0.0             0.000000  \n",
       "75%                   0.0             0.000000  \n",
       "max                   0.0           100.000000  \n",
       "\n",
       "[8 rows x 66 columns]"
      ]
     },
     "execution_count": 87,
     "metadata": {},
     "output_type": "execute_result"
    }
   ],
   "source": [
    "btc_yahoo.describe()"
   ]
  },
  {
   "cell_type": "markdown",
   "metadata": {},
   "source": [
    "Zero columns"
   ]
  },
  {
   "cell_type": "code",
   "execution_count": 89,
   "metadata": {},
   "outputs": [
    {
     "data": {
      "text/plain": [
       "Index(['CDL2CROWS', 'CDL3BLACKCROWS', 'CDL3STARSINSOUTH', 'CDLABANDONEDBABY',\n",
       "       'CDLBREAKAWAY', 'CDLCONCEALBABYSWALL', 'CDLCOUNTERATTACK', 'CDLINNECK',\n",
       "       'CDLKICKING', 'CDLKICKINGBYLENGTH', 'CDLLADDERBOTTOM', 'CDLMATHOLD',\n",
       "       'CDLONNECK', 'CDLRISEFALL3METHODS', 'CDLSTICKSANDWICH',\n",
       "       'CDLUPSIDEGAP2CROWS'],\n",
       "      dtype='object')"
      ]
     },
     "execution_count": 89,
     "metadata": {},
     "output_type": "execute_result"
    }
   ],
   "source": [
    "btc_yahoo.columns[(btc_yahoo == 0).all()]"
   ]
  }
 ],
 "metadata": {
  "interpreter": {
   "hash": "300c66fcc1963d8eb5806bae3a9201a09ea83e2d6e6edeaaa776db8c566070af"
  },
  "kernelspec": {
   "display_name": "Python 3.8.10 64-bit ('crypto': conda)",
   "name": "python3"
  },
  "language_info": {
   "codemirror_mode": {
    "name": "ipython",
    "version": 3
   },
   "file_extension": ".py",
   "mimetype": "text/x-python",
   "name": "python",
   "nbconvert_exporter": "python",
   "pygments_lexer": "ipython3",
   "version": "3.8.10"
  },
  "orig_nbformat": 4
 },
 "nbformat": 4,
 "nbformat_minor": 2
}
