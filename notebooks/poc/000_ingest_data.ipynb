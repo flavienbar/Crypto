{
 "cells": [
  {
   "cell_type": "markdown",
   "metadata": {},
   "source": []
  },
  {
   "cell_type": "markdown",
   "metadata": {},
   "source": [
    "# DATA INGESTION\n",
    "**Sources** :\n",
    "- yahoo finance\n",
    "- google trends"
   ]
  },
  {
   "cell_type": "code",
   "execution_count": 43,
   "metadata": {},
   "outputs": [],
   "source": [
    "import pandas as pd\n",
    "import numpy as np\n",
    "\n",
    "import yfinance as yf\n",
    "\n",
    "from pytrends.request import TrendReq\n",
    "\n",
    "\n",
    "\n",
    "from datetime import date\n",
    "\n",
    "import pyarrow.parquet as pq\n",
    "\n",
    "import plotly.graph_objects as go\n",
    "import plotly.express as px"
   ]
  },
  {
   "cell_type": "markdown",
   "metadata": {},
   "source": [
    "# Yahoo finance"
   ]
  },
  {
   "cell_type": "markdown",
   "metadata": {},
   "source": [
    "## ITEMS SELECTION"
   ]
  },
  {
   "cell_type": "markdown",
   "metadata": {},
   "source": [
    "### INDICES"
   ]
  },
  {
   "cell_type": "code",
   "execution_count": 2,
   "metadata": {},
   "outputs": [],
   "source": [
    "indices = {\"DOWJONES\" : \"^DJI\",\"NASDAQ\": \"^IXIC\",\"S&P500\" : \"^GSPC\" }"
   ]
  },
  {
   "cell_type": "markdown",
   "metadata": {},
   "source": [
    "### CURRENCIES"
   ]
  },
  {
   "cell_type": "code",
   "execution_count": 3,
   "metadata": {},
   "outputs": [],
   "source": [
    "currency = { \"EUR/USD\" : \"EURUSD=X\"} "
   ]
  },
  {
   "cell_type": "markdown",
   "metadata": {},
   "source": [
    "### COMMODITIES"
   ]
  },
  {
   "cell_type": "code",
   "execution_count": 4,
   "metadata": {},
   "outputs": [],
   "source": [
    "commodity = {\"GOLD\" : \"GC=F\", \"COPPER\" : \"HG=F\", \"BRENT\" : \"BZ=F\", \"COAL\" : \"MTF=F\"} "
   ]
  },
  {
   "cell_type": "markdown",
   "metadata": {},
   "source": [
    "### US tresory bonds RATES"
   ]
  },
  {
   "cell_type": "code",
   "execution_count": 5,
   "metadata": {},
   "outputs": [],
   "source": [
    "usbondrate = {\"USBOND13W\" : \"^IRX\",  \"USBOND5Y\": \"^FVX\",  \"USBOND10Y\": \"^TNX\"}"
   ]
  },
  {
   "cell_type": "markdown",
   "metadata": {},
   "source": [
    "### CRYPTOCURRENTIES"
   ]
  },
  {
   "cell_type": "code",
   "execution_count": 6,
   "metadata": {},
   "outputs": [],
   "source": [
    "cryptocurrency = { \"BTC\" : \"BTC-USD\",\n",
    "                    \"ETH\" : \"ETH-USD\",\n",
    "                    \"ADA\" : \"ADA-USD\",\n",
    "                    \"SOL\" : \"SOL1-USD\",\n",
    "                    \"DOGE\" : \"DOGE-USD\",\n",
    "                    \"LUNA\" : \"LUNA1-USD\",\n",
    "                    \"AVAX\" : \"AVAX-USD\",\n",
    "                    \"ALGO\" : \"ALGO-USD\",\n",
    "                    \"ATOM\" : \"ATOM1-USD\",\n",
    "                    \"SHIB\" : \"SHIB-USD\",\n",
    "                    \"DOT\" : \"DOT1-USD\",\n",
    "                    \"MATIC\" : \"MATIC-USD\",\n",
    "                    \"VET\" : \"VET-USD\",\n",
    "                    \"FTM\" : \"FTM-USD\",\n",
    "                    \"LINK\" : \"LINK-USD\",\n",
    "                    \"ONE\" : \"ONE2-USD\",\n",
    "                    \"HNT\" : \"USDHNT1-USD\",\n",
    "                    \"CELO\" : \"CELO-USD\",\n",
    "                    \"CHZ\" : \"CHZ-USD\",\n",
    "                    \"HOT\" : \"HOT1-USD\",\n",
    "                    \"IOTA\" : \"MIOTA-USD\"\n",
    "                     } "
   ]
  },
  {
   "cell_type": "markdown",
   "metadata": {},
   "source": [
    "## GET THE DATASET"
   ]
  },
  {
   "cell_type": "code",
   "execution_count": 7,
   "metadata": {},
   "outputs": [
    {
     "data": {
      "text/plain": [
       "'^DJI ^IXIC ^GSPC EURUSD=X GC=F HG=F BZ=F MTF=F ^IRX ^FVX ^TNX BTC-USD ETH-USD ADA-USD SOL1-USD DOGE-USD LUNA1-USD AVAX-USD ALGO-USD ATOM1-USD SHIB-USD DOT1-USD MATIC-USD VET-USD FTM-USD LINK-USD ONE2-USD USDHNT1-USD CELO-USD CHZ-USD HOT1-USD MIOTA-USD'"
      ]
     },
     "execution_count": 7,
     "metadata": {},
     "output_type": "execute_result"
    }
   ],
   "source": [
    "symbol = []\n",
    "for x in [indices, currency, commodity, usbondrate, cryptocurrency]:\n",
    "\n",
    "    for k, v in x.items():                                                             \n",
    "        symbol.append(v)\n",
    "\n",
    "\n",
    "tickers = \" \".join(symbol)\n",
    "tickers"
   ]
  },
  {
   "cell_type": "code",
   "execution_count": 8,
   "metadata": {},
   "outputs": [
    {
     "name": "stdout",
     "output_type": "stream",
     "text": [
      "[*********************100%***********************]  32 of 32 completed\n",
      "\n",
      "1 Failed download:\n",
      "- USDHNT1-USD: No data found, symbol may be delisted\n"
     ]
    },
    {
     "data": {
      "text/html": [
       "<div>\n",
       "<style scoped>\n",
       "    .dataframe tbody tr th:only-of-type {\n",
       "        vertical-align: middle;\n",
       "    }\n",
       "\n",
       "    .dataframe tbody tr th {\n",
       "        vertical-align: top;\n",
       "    }\n",
       "\n",
       "    .dataframe thead tr th {\n",
       "        text-align: left;\n",
       "    }\n",
       "\n",
       "    .dataframe thead tr:last-of-type th {\n",
       "        text-align: right;\n",
       "    }\n",
       "</style>\n",
       "<table border=\"1\" class=\"dataframe\">\n",
       "  <thead>\n",
       "    <tr>\n",
       "      <th></th>\n",
       "      <th colspan=\"5\" halign=\"left\">LINK-USD</th>\n",
       "      <th colspan=\"5\" halign=\"left\">BZ=F</th>\n",
       "      <th>...</th>\n",
       "      <th colspan=\"5\" halign=\"left\">VET-USD</th>\n",
       "      <th colspan=\"5\" halign=\"left\">HOT1-USD</th>\n",
       "    </tr>\n",
       "    <tr>\n",
       "      <th></th>\n",
       "      <th>Open</th>\n",
       "      <th>High</th>\n",
       "      <th>Low</th>\n",
       "      <th>Close</th>\n",
       "      <th>Volume</th>\n",
       "      <th>Open</th>\n",
       "      <th>High</th>\n",
       "      <th>Low</th>\n",
       "      <th>Close</th>\n",
       "      <th>Volume</th>\n",
       "      <th>...</th>\n",
       "      <th>Open</th>\n",
       "      <th>High</th>\n",
       "      <th>Low</th>\n",
       "      <th>Close</th>\n",
       "      <th>Volume</th>\n",
       "      <th>Open</th>\n",
       "      <th>High</th>\n",
       "      <th>Low</th>\n",
       "      <th>Close</th>\n",
       "      <th>Volume</th>\n",
       "    </tr>\n",
       "    <tr>\n",
       "      <th>Date</th>\n",
       "      <th></th>\n",
       "      <th></th>\n",
       "      <th></th>\n",
       "      <th></th>\n",
       "      <th></th>\n",
       "      <th></th>\n",
       "      <th></th>\n",
       "      <th></th>\n",
       "      <th></th>\n",
       "      <th></th>\n",
       "      <th></th>\n",
       "      <th></th>\n",
       "      <th></th>\n",
       "      <th></th>\n",
       "      <th></th>\n",
       "      <th></th>\n",
       "      <th></th>\n",
       "      <th></th>\n",
       "      <th></th>\n",
       "      <th></th>\n",
       "      <th></th>\n",
       "    </tr>\n",
       "  </thead>\n",
       "  <tbody>\n",
       "    <tr>\n",
       "      <th>1927-12-30</th>\n",
       "      <td>NaN</td>\n",
       "      <td>NaN</td>\n",
       "      <td>NaN</td>\n",
       "      <td>NaN</td>\n",
       "      <td>NaN</td>\n",
       "      <td>NaN</td>\n",
       "      <td>NaN</td>\n",
       "      <td>NaN</td>\n",
       "      <td>NaN</td>\n",
       "      <td>NaN</td>\n",
       "      <td>...</td>\n",
       "      <td>NaN</td>\n",
       "      <td>NaN</td>\n",
       "      <td>NaN</td>\n",
       "      <td>NaN</td>\n",
       "      <td>NaN</td>\n",
       "      <td>NaN</td>\n",
       "      <td>NaN</td>\n",
       "      <td>NaN</td>\n",
       "      <td>NaN</td>\n",
       "      <td>NaN</td>\n",
       "    </tr>\n",
       "    <tr>\n",
       "      <th>1928-01-03</th>\n",
       "      <td>NaN</td>\n",
       "      <td>NaN</td>\n",
       "      <td>NaN</td>\n",
       "      <td>NaN</td>\n",
       "      <td>NaN</td>\n",
       "      <td>NaN</td>\n",
       "      <td>NaN</td>\n",
       "      <td>NaN</td>\n",
       "      <td>NaN</td>\n",
       "      <td>NaN</td>\n",
       "      <td>...</td>\n",
       "      <td>NaN</td>\n",
       "      <td>NaN</td>\n",
       "      <td>NaN</td>\n",
       "      <td>NaN</td>\n",
       "      <td>NaN</td>\n",
       "      <td>NaN</td>\n",
       "      <td>NaN</td>\n",
       "      <td>NaN</td>\n",
       "      <td>NaN</td>\n",
       "      <td>NaN</td>\n",
       "    </tr>\n",
       "    <tr>\n",
       "      <th>1928-01-04</th>\n",
       "      <td>NaN</td>\n",
       "      <td>NaN</td>\n",
       "      <td>NaN</td>\n",
       "      <td>NaN</td>\n",
       "      <td>NaN</td>\n",
       "      <td>NaN</td>\n",
       "      <td>NaN</td>\n",
       "      <td>NaN</td>\n",
       "      <td>NaN</td>\n",
       "      <td>NaN</td>\n",
       "      <td>...</td>\n",
       "      <td>NaN</td>\n",
       "      <td>NaN</td>\n",
       "      <td>NaN</td>\n",
       "      <td>NaN</td>\n",
       "      <td>NaN</td>\n",
       "      <td>NaN</td>\n",
       "      <td>NaN</td>\n",
       "      <td>NaN</td>\n",
       "      <td>NaN</td>\n",
       "      <td>NaN</td>\n",
       "    </tr>\n",
       "    <tr>\n",
       "      <th>1928-01-05</th>\n",
       "      <td>NaN</td>\n",
       "      <td>NaN</td>\n",
       "      <td>NaN</td>\n",
       "      <td>NaN</td>\n",
       "      <td>NaN</td>\n",
       "      <td>NaN</td>\n",
       "      <td>NaN</td>\n",
       "      <td>NaN</td>\n",
       "      <td>NaN</td>\n",
       "      <td>NaN</td>\n",
       "      <td>...</td>\n",
       "      <td>NaN</td>\n",
       "      <td>NaN</td>\n",
       "      <td>NaN</td>\n",
       "      <td>NaN</td>\n",
       "      <td>NaN</td>\n",
       "      <td>NaN</td>\n",
       "      <td>NaN</td>\n",
       "      <td>NaN</td>\n",
       "      <td>NaN</td>\n",
       "      <td>NaN</td>\n",
       "    </tr>\n",
       "    <tr>\n",
       "      <th>1928-01-09</th>\n",
       "      <td>NaN</td>\n",
       "      <td>NaN</td>\n",
       "      <td>NaN</td>\n",
       "      <td>NaN</td>\n",
       "      <td>NaN</td>\n",
       "      <td>NaN</td>\n",
       "      <td>NaN</td>\n",
       "      <td>NaN</td>\n",
       "      <td>NaN</td>\n",
       "      <td>NaN</td>\n",
       "      <td>...</td>\n",
       "      <td>NaN</td>\n",
       "      <td>NaN</td>\n",
       "      <td>NaN</td>\n",
       "      <td>NaN</td>\n",
       "      <td>NaN</td>\n",
       "      <td>NaN</td>\n",
       "      <td>NaN</td>\n",
       "      <td>NaN</td>\n",
       "      <td>NaN</td>\n",
       "      <td>NaN</td>\n",
       "    </tr>\n",
       "    <tr>\n",
       "      <th>...</th>\n",
       "      <td>...</td>\n",
       "      <td>...</td>\n",
       "      <td>...</td>\n",
       "      <td>...</td>\n",
       "      <td>...</td>\n",
       "      <td>...</td>\n",
       "      <td>...</td>\n",
       "      <td>...</td>\n",
       "      <td>...</td>\n",
       "      <td>...</td>\n",
       "      <td>...</td>\n",
       "      <td>...</td>\n",
       "      <td>...</td>\n",
       "      <td>...</td>\n",
       "      <td>...</td>\n",
       "      <td>...</td>\n",
       "      <td>...</td>\n",
       "      <td>...</td>\n",
       "      <td>...</td>\n",
       "      <td>...</td>\n",
       "      <td>...</td>\n",
       "    </tr>\n",
       "    <tr>\n",
       "      <th>2021-10-13</th>\n",
       "      <td>24.643555</td>\n",
       "      <td>25.611750</td>\n",
       "      <td>24.212311</td>\n",
       "      <td>25.611750</td>\n",
       "      <td>1.072083e+09</td>\n",
       "      <td>83.160004</td>\n",
       "      <td>83.690002</td>\n",
       "      <td>82.209999</td>\n",
       "      <td>83.180000</td>\n",
       "      <td>39594.0</td>\n",
       "      <td>...</td>\n",
       "      <td>0.106773</td>\n",
       "      <td>0.116273</td>\n",
       "      <td>0.104732</td>\n",
       "      <td>0.115412</td>\n",
       "      <td>607900248.0</td>\n",
       "      <td>0.009125</td>\n",
       "      <td>0.009362</td>\n",
       "      <td>0.008877</td>\n",
       "      <td>0.009225</td>\n",
       "      <td>142925128.0</td>\n",
       "    </tr>\n",
       "    <tr>\n",
       "      <th>2021-10-14</th>\n",
       "      <td>25.640514</td>\n",
       "      <td>27.799879</td>\n",
       "      <td>25.424726</td>\n",
       "      <td>26.647486</td>\n",
       "      <td>1.375953e+09</td>\n",
       "      <td>83.349998</td>\n",
       "      <td>84.529999</td>\n",
       "      <td>83.190002</td>\n",
       "      <td>84.000000</td>\n",
       "      <td>37348.0</td>\n",
       "      <td>...</td>\n",
       "      <td>0.115371</td>\n",
       "      <td>0.122921</td>\n",
       "      <td>0.115371</td>\n",
       "      <td>0.118928</td>\n",
       "      <td>611465372.0</td>\n",
       "      <td>0.009226</td>\n",
       "      <td>0.009657</td>\n",
       "      <td>0.009144</td>\n",
       "      <td>0.009194</td>\n",
       "      <td>126663531.0</td>\n",
       "    </tr>\n",
       "    <tr>\n",
       "      <th>2021-10-15</th>\n",
       "      <td>26.721535</td>\n",
       "      <td>27.338594</td>\n",
       "      <td>26.028906</td>\n",
       "      <td>26.944546</td>\n",
       "      <td>1.233297e+09</td>\n",
       "      <td>84.199997</td>\n",
       "      <td>85.099998</td>\n",
       "      <td>84.169998</td>\n",
       "      <td>84.849998</td>\n",
       "      <td>31221.0</td>\n",
       "      <td>...</td>\n",
       "      <td>0.119127</td>\n",
       "      <td>0.124789</td>\n",
       "      <td>0.113090</td>\n",
       "      <td>0.119679</td>\n",
       "      <td>668182487.0</td>\n",
       "      <td>0.009205</td>\n",
       "      <td>0.009378</td>\n",
       "      <td>0.008926</td>\n",
       "      <td>0.009147</td>\n",
       "      <td>172536073.0</td>\n",
       "    </tr>\n",
       "    <tr>\n",
       "      <th>2021-10-16</th>\n",
       "      <td>26.982397</td>\n",
       "      <td>28.598087</td>\n",
       "      <td>26.955416</td>\n",
       "      <td>27.228479</td>\n",
       "      <td>1.125842e+09</td>\n",
       "      <td>NaN</td>\n",
       "      <td>NaN</td>\n",
       "      <td>NaN</td>\n",
       "      <td>NaN</td>\n",
       "      <td>NaN</td>\n",
       "      <td>...</td>\n",
       "      <td>0.119800</td>\n",
       "      <td>0.124268</td>\n",
       "      <td>0.118458</td>\n",
       "      <td>0.119789</td>\n",
       "      <td>396550836.0</td>\n",
       "      <td>0.009159</td>\n",
       "      <td>0.009613</td>\n",
       "      <td>0.009094</td>\n",
       "      <td>0.009288</td>\n",
       "      <td>157709672.0</td>\n",
       "    </tr>\n",
       "    <tr>\n",
       "      <th>2021-10-17</th>\n",
       "      <td>27.148932</td>\n",
       "      <td>27.595676</td>\n",
       "      <td>26.484320</td>\n",
       "      <td>26.716354</td>\n",
       "      <td>7.066098e+08</td>\n",
       "      <td>NaN</td>\n",
       "      <td>NaN</td>\n",
       "      <td>NaN</td>\n",
       "      <td>NaN</td>\n",
       "      <td>NaN</td>\n",
       "      <td>...</td>\n",
       "      <td>0.119551</td>\n",
       "      <td>0.127527</td>\n",
       "      <td>0.117906</td>\n",
       "      <td>0.124118</td>\n",
       "      <td>505657376.0</td>\n",
       "      <td>0.009282</td>\n",
       "      <td>0.009906</td>\n",
       "      <td>0.009188</td>\n",
       "      <td>0.009661</td>\n",
       "      <td>246133920.0</td>\n",
       "    </tr>\n",
       "  </tbody>\n",
       "</table>\n",
       "<p>20617 rows × 161 columns</p>\n",
       "</div>"
      ],
      "text/plain": [
       "             LINK-USD                                                 \\\n",
       "                 Open       High        Low      Close        Volume   \n",
       "Date                                                                   \n",
       "1927-12-30        NaN        NaN        NaN        NaN           NaN   \n",
       "1928-01-03        NaN        NaN        NaN        NaN           NaN   \n",
       "1928-01-04        NaN        NaN        NaN        NaN           NaN   \n",
       "1928-01-05        NaN        NaN        NaN        NaN           NaN   \n",
       "1928-01-09        NaN        NaN        NaN        NaN           NaN   \n",
       "...               ...        ...        ...        ...           ...   \n",
       "2021-10-13  24.643555  25.611750  24.212311  25.611750  1.072083e+09   \n",
       "2021-10-14  25.640514  27.799879  25.424726  26.647486  1.375953e+09   \n",
       "2021-10-15  26.721535  27.338594  26.028906  26.944546  1.233297e+09   \n",
       "2021-10-16  26.982397  28.598087  26.955416  27.228479  1.125842e+09   \n",
       "2021-10-17  27.148932  27.595676  26.484320  26.716354  7.066098e+08   \n",
       "\n",
       "                 BZ=F                                            ...  \\\n",
       "                 Open       High        Low      Close   Volume  ...   \n",
       "Date                                                             ...   \n",
       "1927-12-30        NaN        NaN        NaN        NaN      NaN  ...   \n",
       "1928-01-03        NaN        NaN        NaN        NaN      NaN  ...   \n",
       "1928-01-04        NaN        NaN        NaN        NaN      NaN  ...   \n",
       "1928-01-05        NaN        NaN        NaN        NaN      NaN  ...   \n",
       "1928-01-09        NaN        NaN        NaN        NaN      NaN  ...   \n",
       "...               ...        ...        ...        ...      ...  ...   \n",
       "2021-10-13  83.160004  83.690002  82.209999  83.180000  39594.0  ...   \n",
       "2021-10-14  83.349998  84.529999  83.190002  84.000000  37348.0  ...   \n",
       "2021-10-15  84.199997  85.099998  84.169998  84.849998  31221.0  ...   \n",
       "2021-10-16        NaN        NaN        NaN        NaN      NaN  ...   \n",
       "2021-10-17        NaN        NaN        NaN        NaN      NaN  ...   \n",
       "\n",
       "             VET-USD                                             HOT1-USD  \\\n",
       "                Open      High       Low     Close       Volume      Open   \n",
       "Date                                                                        \n",
       "1927-12-30       NaN       NaN       NaN       NaN          NaN       NaN   \n",
       "1928-01-03       NaN       NaN       NaN       NaN          NaN       NaN   \n",
       "1928-01-04       NaN       NaN       NaN       NaN          NaN       NaN   \n",
       "1928-01-05       NaN       NaN       NaN       NaN          NaN       NaN   \n",
       "1928-01-09       NaN       NaN       NaN       NaN          NaN       NaN   \n",
       "...              ...       ...       ...       ...          ...       ...   \n",
       "2021-10-13  0.106773  0.116273  0.104732  0.115412  607900248.0  0.009125   \n",
       "2021-10-14  0.115371  0.122921  0.115371  0.118928  611465372.0  0.009226   \n",
       "2021-10-15  0.119127  0.124789  0.113090  0.119679  668182487.0  0.009205   \n",
       "2021-10-16  0.119800  0.124268  0.118458  0.119789  396550836.0  0.009159   \n",
       "2021-10-17  0.119551  0.127527  0.117906  0.124118  505657376.0  0.009282   \n",
       "\n",
       "                                                       \n",
       "                High       Low     Close       Volume  \n",
       "Date                                                   \n",
       "1927-12-30       NaN       NaN       NaN          NaN  \n",
       "1928-01-03       NaN       NaN       NaN          NaN  \n",
       "1928-01-04       NaN       NaN       NaN          NaN  \n",
       "1928-01-05       NaN       NaN       NaN          NaN  \n",
       "1928-01-09       NaN       NaN       NaN          NaN  \n",
       "...              ...       ...       ...          ...  \n",
       "2021-10-13  0.009362  0.008877  0.009225  142925128.0  \n",
       "2021-10-14  0.009657  0.009144  0.009194  126663531.0  \n",
       "2021-10-15  0.009378  0.008926  0.009147  172536073.0  \n",
       "2021-10-16  0.009613  0.009094  0.009288  157709672.0  \n",
       "2021-10-17  0.009906  0.009188  0.009661  246133920.0  \n",
       "\n",
       "[20617 rows x 161 columns]"
      ]
     },
     "execution_count": 8,
     "metadata": {},
     "output_type": "execute_result"
    }
   ],
   "source": [
    "data = yf.download(tickers,  period = 'max', interval = \"1d\",  auto_adjust = True,  group_by = 'ticker')\n",
    "data"
   ]
  },
  {
   "cell_type": "markdown",
   "metadata": {},
   "source": [
    "## EXTERNAL STORAGE"
   ]
  },
  {
   "cell_type": "code",
   "execution_count": 9,
   "metadata": {},
   "outputs": [],
   "source": [
    "#data.to_parquet('/home/giujorge/datalake/lab/Crypto/crypto/data/external/yahoo/daily/usd/all_yahoo_{}.parquet.gzip'.format(date.today().strftime(\"%Y_%m_%d\")), compression='gzip')"
   ]
  },
  {
   "cell_type": "code",
   "execution_count": 13,
   "metadata": {},
   "outputs": [],
   "source": [
    "#yahoo_df = pd.read_parquet('/home/giujorge/datalake/lab/Crypto/crypto/data/external/yahoo/daily/usd/all_yahoo_2021_10_17.parquet.gzip')"
   ]
  },
  {
   "cell_type": "markdown",
   "metadata": {},
   "source": [
    "# Google Trends"
   ]
  },
  {
   "cell_type": "markdown",
   "metadata": {},
   "source": [
    "## KEYWORD LIST"
   ]
  },
  {
   "cell_type": "code",
   "execution_count": 45,
   "metadata": {},
   "outputs": [],
   "source": [
    "kw_list = [\"bitcoin\", \"btc\", \"cryptocurrency\"] "
   ]
  },
  {
   "cell_type": "markdown",
   "metadata": {},
   "source": [
    "## GET THE DATASET"
   ]
  },
  {
   "cell_type": "code",
   "execution_count": 48,
   "metadata": {},
   "outputs": [],
   "source": [
    "pytrend = TrendReq(hl='en-US', tz=0)"
   ]
  },
  {
   "cell_type": "code",
   "execution_count": 50,
   "metadata": {},
   "outputs": [],
   "source": [
    "pytrend.build_payload(kw_list, timeframe='2014-09-17 2021-10-17', geo='US')"
   ]
  },
  {
   "cell_type": "code",
   "execution_count": 51,
   "metadata": {},
   "outputs": [],
   "source": [
    "google_df = pytrend.interest_over_time()"
   ]
  },
  {
   "cell_type": "markdown",
   "metadata": {},
   "source": [
    "## EXTERNAL STORAGE"
   ]
  },
  {
   "cell_type": "code",
   "execution_count": 53,
   "metadata": {},
   "outputs": [],
   "source": [
    "google_df.to_parquet('/home/giujorge/datalake/lab/Crypto/crypto/data/external/google/google_trends/btc_googletrends_{}.parquet.gzip'.format(date.today().strftime(\"%Y_%m_%d\")), compression='gzip')"
   ]
  },
  {
   "cell_type": "markdown",
   "metadata": {},
   "source": [
    "# Data raw"
   ]
  },
  {
   "cell_type": "markdown",
   "metadata": {},
   "source": [
    "## MAKE THE DATASET"
   ]
  },
  {
   "cell_type": "code",
   "execution_count": null,
   "metadata": {},
   "outputs": [],
   "source": []
  },
  {
   "cell_type": "code",
   "execution_count": null,
   "metadata": {},
   "outputs": [],
   "source": []
  },
  {
   "cell_type": "markdown",
   "metadata": {},
   "source": [
    "## STORAGE"
   ]
  },
  {
   "cell_type": "code",
   "execution_count": null,
   "metadata": {},
   "outputs": [],
   "source": []
  }
 ],
 "metadata": {
  "interpreter": {
   "hash": "300c66fcc1963d8eb5806bae3a9201a09ea83e2d6e6edeaaa776db8c566070af"
  },
  "kernelspec": {
   "display_name": "Python 3.8.10 64-bit ('crypto': conda)",
   "name": "python3"
  },
  "language_info": {
   "codemirror_mode": {
    "name": "ipython",
    "version": 3
   },
   "file_extension": ".py",
   "mimetype": "text/x-python",
   "name": "python",
   "nbconvert_exporter": "python",
   "pygments_lexer": "ipython3",
   "version": "3.8.10"
  }
 },
 "nbformat": 4,
 "nbformat_minor": 5
}
